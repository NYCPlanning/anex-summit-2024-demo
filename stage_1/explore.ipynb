{
 "cells": [
  {
   "cell_type": "code",
   "execution_count": 1,
   "metadata": {},
   "outputs": [],
   "source": [
    "import duckdb\n",
    "import seaborn\n",
    "import matplotlib\n",
    "import pygwalker\n",
    "from load import DATABASE_PATH\n",
    "\n",
    "seaborn.set_style(\"darkgrid\")"
   ]
  },
  {
   "cell_type": "markdown",
   "metadata": {},
   "source": [
    "## List all database tables"
   ]
  },
  {
   "cell_type": "code",
   "execution_count": null,
   "metadata": {},
   "outputs": [],
   "source": [
    "with duckdb.connect(str(DATABASE_PATH)) as connection:\n",
    "    connection.sql(\"SHOW ALL TABLES\").show()"
   ]
  },
  {
   "cell_type": "code",
   "execution_count": null,
   "metadata": {},
   "outputs": [],
   "source": [
    "with duckdb.connect(str(DATABASE_PATH)) as connection:\n",
    "    table_details = connection.sql(\"SHOW ALL TABLES\").df()\n",
    "table_details"
   ]
  },
  {
   "cell_type": "markdown",
   "metadata": {},
   "source": [
    "## Explore PLUTO"
   ]
  },
  {
   "cell_type": "code",
   "execution_count": null,
   "metadata": {},
   "outputs": [],
   "source": [
    "with duckdb.connect(str(DATABASE_PATH)) as connection:\n",
    "    pluto_description = connection.sql(\"DESCRIBE pluto\").df()\n",
    "pluto_description"
   ]
  },
  {
   "cell_type": "markdown",
   "metadata": {},
   "source": [
    "Database queries are fast"
   ]
  },
  {
   "cell_type": "code",
   "execution_count": null,
   "metadata": {},
   "outputs": [],
   "source": [
    "with duckdb.connect(str(DATABASE_PATH)) as connection:\n",
    "    connection.sql(\"SELECT * FROM pluto\").show()"
   ]
  },
  {
   "cell_type": "markdown",
   "metadata": {},
   "source": [
    "Creating a DataFrame from query results can be slow"
   ]
  },
  {
   "cell_type": "code",
   "execution_count": null,
   "metadata": {},
   "outputs": [],
   "source": [
    "with duckdb.connect(str(DATABASE_PATH)) as connection:\n",
    "    pluto = connection.sql(\"SELECT * FROM pluto\").df()\n",
    "pluto"
   ]
  },
  {
   "cell_type": "markdown",
   "metadata": {},
   "source": [
    "Selecting a subset of columns can be fast"
   ]
  },
  {
   "cell_type": "code",
   "execution_count": null,
   "metadata": {},
   "outputs": [],
   "source": [
    "with duckdb.connect(str(DATABASE_PATH)) as connection:\n",
    "    pluto_some_columns = connection.sql(\"SELECT bbl, borough, geom FROM pluto\").df()\n",
    "pluto_some_columns"
   ]
  },
  {
   "cell_type": "code",
   "execution_count": null,
   "metadata": {},
   "outputs": [],
   "source": [
    "pluto_some_columns.value_counts(subset=[\"borough\"])"
   ]
  },
  {
   "cell_type": "markdown",
   "metadata": {},
   "source": [
    "## Explore Airbnb"
   ]
  },
  {
   "cell_type": "code",
   "execution_count": null,
   "metadata": {},
   "outputs": [],
   "source": [
    "with duckdb.connect(str(DATABASE_PATH)) as connection:\n",
    "    connection.sql(\"DESCRIBE airbnb_nyc_listings\").show()\n",
    "    connection.sql(\"DESCRIBE airbnb_nyc_detailed_listings\").show()"
   ]
  },
  {
   "cell_type": "code",
   "execution_count": 10,
   "metadata": {},
   "outputs": [],
   "source": [
    "with duckdb.connect(str(DATABASE_PATH)) as connection:\n",
    "    airbnb_nyc_listings = connection.sql(\"SELECT * FROM airbnb_nyc_listings\").df()\n",
    "    airbnb_nyc_detailed_listings = connection.sql(\"SELECT * FROM airbnb_nyc_detailed_listings\").df()"
   ]
  },
  {
   "cell_type": "code",
   "execution_count": null,
   "metadata": {},
   "outputs": [],
   "source": [
    "airbnb_nyc_listings"
   ]
  },
  {
   "cell_type": "code",
   "execution_count": null,
   "metadata": {},
   "outputs": [],
   "source": [
    "airbnb_nyc_detailed_listings"
   ]
  },
  {
   "cell_type": "code",
   "execution_count": null,
   "metadata": {},
   "outputs": [],
   "source": [
    "print(f\"Range of price values: {airbnb_nyc_listings[\"price\"].min()} - {airbnb_nyc_listings[\"price\"].max()}\")"
   ]
  },
  {
   "cell_type": "code",
   "execution_count": null,
   "metadata": {},
   "outputs": [],
   "source": [
    "seaborn.displot(airbnb_nyc_listings, x=\"price\", log_scale=True)"
   ]
  },
  {
   "cell_type": "code",
   "execution_count": null,
   "metadata": {},
   "outputs": [],
   "source": [
    "price_histograms = seaborn.displot(\n",
    "    airbnb_nyc_listings,\n",
    "    x=\"price\",\n",
    "    log_scale=True,\n",
    "    col=\"neighbourhood_group\",\n",
    ")\n",
    "for ax in price_histograms.axes.flatten():\n",
    "    ax.get_xaxis().set_major_formatter(\n",
    "        matplotlib.ticker.FuncFormatter(\n",
    "            lambda x, _: format(int(x), \",\")\n",
    "        )\n",
    "    )\n",
    "    ax.get_yaxis().set_major_formatter(\n",
    "        matplotlib.ticker.FuncFormatter(lambda y, _: format(int(y), \",\"))\n",
    "    )"
   ]
  },
  {
   "cell_type": "markdown",
   "metadata": {},
   "source": [
    "`pygwalker` is an interactive way to explore data with a UI similar to Tableau\n",
    "\n",
    "It can be used with a DataFrame or a database connection"
   ]
  },
  {
   "cell_type": "code",
   "execution_count": null,
   "metadata": {},
   "outputs": [],
   "source": [
    "conn = pygwalker.data_parsers.database_parser.Connector(\n",
    "    f\"duckdb:///{DATABASE_PATH}\", \"SELECT * FROM airbnb_nyc_listings\"\n",
    ")\n",
    "pygwalker.walk(conn, kernel_computation=True)"
   ]
  },
  {
   "cell_type": "code",
   "execution_count": null,
   "metadata": {},
   "outputs": [],
   "source": [
    "conn.engine.dispose()"
   ]
  },
  {
   "cell_type": "markdown",
   "metadata": {},
   "source": [
    "## Explore NYC Taxi and Limousine Commission (TLC) Trip Records"
   ]
  },
  {
   "cell_type": "code",
   "execution_count": null,
   "metadata": {},
   "outputs": [],
   "source": [
    "with duckdb.connect(str(DATABASE_PATH)) as connection:\n",
    "    connection.sql(\"DESCRIBE tlc_trips\").show()\n",
    "    connection.sql(\"SELECT COUNT(*) FROM tlc_trips\").show()"
   ]
  },
  {
   "cell_type": "markdown",
   "metadata": {},
   "source": [
    "Creating a DataFrame from this table takes several minutes (if it works at all)\n",
    "\n",
    "A sample is useful to select a random subset of rows"
   ]
  },
  {
   "cell_type": "code",
   "execution_count": null,
   "metadata": {},
   "outputs": [],
   "source": [
    "conn = pygwalker.data_parsers.database_parser.Connector(\n",
    "    f\"duckdb:///{DATABASE_PATH}\", \"SELECT * FROM tlc_trips USING SAMPLE 5000\"\n",
    ")\n",
    "pygwalker.walk(conn, kernel_computation=True)"
   ]
  },
  {
   "cell_type": "code",
   "execution_count": null,
   "metadata": {},
   "outputs": [],
   "source": [
    "conn.engine.dispose()"
   ]
  },
  {
   "cell_type": "markdown",
   "metadata": {},
   "source": [
    "Exploration can inform fast analytical queries\n",
    "\n",
    "For example,\n",
    "- How long does the average trip take?\n",
    "- How long does the average trip take by vehicle type?"
   ]
  },
  {
   "cell_type": "code",
   "execution_count": null,
   "metadata": {},
   "outputs": [],
   "source": [
    "with duckdb.connect(str(DATABASE_PATH)) as connection:\n",
    "    connection.sql(\n",
    "        \"\"\"\n",
    "            SELECT\n",
    "              filename,\n",
    "              count(*) as number_of_trips\n",
    "            FROM tlc_trips\n",
    "            GROUP BY filename\n",
    "            ORDER BY number_of_trips DESC\n",
    "        \"\"\"\n",
    "    ).show()"
   ]
  },
  {
   "cell_type": "markdown",
   "metadata": {},
   "source": [
    "Coming from different source files, different vehicle types have different columns for the same information"
   ]
  },
  {
   "cell_type": "code",
   "execution_count": null,
   "metadata": {},
   "outputs": [],
   "source": [
    "with duckdb.connect(str(DATABASE_PATH)) as connection:\n",
    "    connection.sql(\n",
    "        \"\"\"\n",
    "            ALTER TABLE tlc_trips DROP COLUMN IF EXISTS vehicle_type;\n",
    "            ALTER TABLE tlc_trips ADD COLUMN IF NOT EXISTS vehicle_type VARCHAR;\n",
    "            UPDATE tlc_trips\n",
    "            SET vehicle_type = (\n",
    "                CASE\n",
    "                  WHEN filename LIKE '%yellow%' THEN 'yellow_taxi'\n",
    "                  WHEN filename LIKE '%green%' THEN 'green_taxi'\n",
    "                  WHEN filename LIKE '%fhv_trip%' THEN 'fhv'\n",
    "                  WHEN filename LIKE '%fhvhv%' THEN 'fhvhv'\n",
    "                END\n",
    "            )\n",
    "        \"\"\"\n",
    "    )"
   ]
  },
  {
   "cell_type": "code",
   "execution_count": null,
   "metadata": {},
   "outputs": [],
   "source": [
    "with duckdb.connect(str(DATABASE_PATH)) as connection:\n",
    "    connection.sql(\n",
    "        \"\"\"\n",
    "            SELECT\n",
    "              vehicle_type,\n",
    "              count(*) as number_of_trips\n",
    "            FROM tlc_trips\n",
    "            GROUP BY vehicle_type\n",
    "            ORDER BY number_of_trips DESC\n",
    "        \"\"\"\n",
    "    ).show()"
   ]
  },
  {
   "cell_type": "code",
   "execution_count": null,
   "metadata": {},
   "outputs": [],
   "source": [
    "with duckdb.connect(str(DATABASE_PATH)) as connection:\n",
    "    connection.sql(\n",
    "        \"\"\"\n",
    "            ALTER TABLE tlc_trips DROP COLUMN IF EXISTS combined_pickup_datetime;\n",
    "            ALTER TABLE tlc_trips ADD COLUMN IF NOT EXISTS combined_pickup_datetime timestamp;\n",
    "            UPDATE tlc_trips\n",
    "            SET combined_pickup_datetime = (coalesce(lpep_pickup_datetime, tpep_pickup_datetime, Pickup_datetime))\n",
    "        \"\"\"\n",
    "    )\n",
    "    connection.sql(\n",
    "        \"\"\"\n",
    "            ALTER TABLE tlc_trips DROP COLUMN IF EXISTS combined_dropoff_datetime;\n",
    "            ALTER TABLE tlc_trips ADD COLUMN IF NOT EXISTS combined_dropoff_datetime timestamp;\n",
    "            UPDATE tlc_trips\n",
    "            SET combined_dropoff_datetime = (coalesce(lpep_dropoff_datetime, tpep_dropoff_datetime, DropOff_datetime))\n",
    "        \"\"\"\n",
    "    )"
   ]
  },
  {
   "cell_type": "code",
   "execution_count": null,
   "metadata": {},
   "outputs": [],
   "source": [
    "with duckdb.connect(str(DATABASE_PATH)) as connection:\n",
    "    connection.sql(\n",
    "        \"\"\"\n",
    "            ALTER TABLE tlc_trips DROP COLUMN IF EXISTS trip_time;\n",
    "            ALTER TABLE tlc_trips ADD COLUMN IF NOT EXISTS trip_time interval;\n",
    "            UPDATE tlc_trips\n",
    "            SET trip_time = (combined_dropoff_datetime - combined_pickup_datetime)\n",
    "        \"\"\"\n",
    "    )"
   ]
  },
  {
   "cell_type": "code",
   "execution_count": null,
   "metadata": {},
   "outputs": [],
   "source": [
    "with duckdb.connect(str(DATABASE_PATH)) as connection:\n",
    "    connection.sql(\n",
    "        \"\"\"\n",
    "            SELECT\n",
    "              combined_pickup_datetime,\n",
    "              combined_dropoff_datetime,\n",
    "              trip_time\n",
    "            FROM tlc_trips\n",
    "        \"\"\"\n",
    "    ).show()"
   ]
  },
  {
   "cell_type": "code",
   "execution_count": null,
   "metadata": {},
   "outputs": [],
   "source": [
    "with duckdb.connect(str(DATABASE_PATH)) as connection:\n",
    "    connection.sql(\n",
    "        \"\"\"\n",
    "            SELECT\n",
    "                vehicle_type,\n",
    "                count(*) as number_of_trips,\n",
    "                round(avg(extract('minute' FROM trip_time)), 1) as average_trip_time_mintues\n",
    "            FROM tlc_trips\n",
    "            GROUP BY vehicle_type\n",
    "            ORDER by average_trip_time_mintues ASC\n",
    "        \"\"\"\n",
    "    ).show()"
   ]
  },
  {
   "cell_type": "code",
   "execution_count": null,
   "metadata": {},
   "outputs": [],
   "source": []
  }
 ],
 "metadata": {
  "kernelspec": {
   "display_name": "duckdb-dbt",
   "language": "python",
   "name": "python3"
  },
  "language_info": {
   "codemirror_mode": {
    "name": "ipython",
    "version": 3
   },
   "file_extension": ".py",
   "mimetype": "text/x-python",
   "name": "python",
   "nbconvert_exporter": "python",
   "pygments_lexer": "ipython3",
   "version": "3.12.4"
  }
 },
 "nbformat": 4,
 "nbformat_minor": 2
}
