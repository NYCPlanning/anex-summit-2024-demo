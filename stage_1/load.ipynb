{
 "cells": [
  {
   "cell_type": "code",
   "execution_count": 2,
   "metadata": {},
   "outputs": [],
   "source": [
    "import os\n",
    "from pathlib import Path\n",
    "import duckdb\n",
    "import platform\n",
    "\n",
    "DATA_DIRECTORY = Path(os.path.abspath(\"\")).parent / \"data\"\n",
    "DATABASE_PATH = DATA_DIRECTORY / \"stage_1.db\"\n",
    "SOURCE_DATA_DIRECTORY = DATA_DIRECTORY / \"source_data\"\n",
    "if platform.system() == \"Windows\":\n",
    "    HTTP_PROXY = os.environ[\"http_proxy\"]\n",
    "else:\n",
    "    HTTP_PROXY = \"\""
   ]
  },
  {
   "cell_type": "code",
   "execution_count": null,
   "metadata": {},
   "outputs": [],
   "source": [
    "# delete the database if it exists\n",
    "DATABASE_PATH.unlink(missing_ok=True)\n",
    "# create the database\n",
    "connection = duckdb.connect(str(DATABASE_PATH))\n",
    "# install the spatial extension\n",
    "with duckdb.connect(str(DATABASE_PATH)) as connection:\n",
    "    connection.sql(f\"SET http_proxy TO '{HTTP_PROXY}'\")\n",
    "    connection.sql(f\"INSTALL spatial\")\n",
    "    connection.sql(f\"LOAD spatial\")\n",
    "print(f\"✅ Created a persistent database at: {DATABASE_PATH}\")"
   ]
  },
  {
   "cell_type": "markdown",
   "metadata": {},
   "source": [
    "## Load DCP PLUTO data"
   ]
  },
  {
   "cell_type": "code",
   "execution_count": null,
   "metadata": {},
   "outputs": [],
   "source": [
    "pluto_csv_path = SOURCE_DATA_DIRECTORY / \"pluto.csv\"\n",
    "\n",
    "print(\"Creating PLUTO table from local csv ...\")\n",
    "with duckdb.connect(str(DATABASE_PATH)) as connection:\n",
    "    connection.sql(f\"DESCRIBE TABLE '{pluto_csv_path}'\").show()\n",
    "    connection.sql(f\"CREATE TABLE pluto as SELECT * FROM '{pluto_csv_path}'\")\n",
    "    connection.sql(f\"SELECT count(*) FROM pluto\").show()\n",
    "\n",
    "print(\"✅ Loaded PLUTO data\")"
   ]
  },
  {
   "cell_type": "markdown",
   "metadata": {},
   "source": [
    "## Load Airbnb NYC data"
   ]
  },
  {
   "cell_type": "code",
   "execution_count": null,
   "metadata": {},
   "outputs": [],
   "source": [
    "airbnb_nyc_listings_url = \"https://data.insideairbnb.com/united-states/ny/new-york-city/2024-07-05/visualisations/listings.csv\"\n",
    "airbnb_nyc_detailed_listings_url = \"https://data.insideairbnb.com/united-states/ny/new-york-city/2024-07-05/data/listings.csv.gz\"\n",
    "\n",
    "print(\"Creating Airbnb NYC listings table from remote csv file ...\")\n",
    "with duckdb.connect(str(DATABASE_PATH)) as connection:\n",
    "    connection.sql(f\"SET http_proxy TO '{HTTP_PROXY}'\")\n",
    "    connection.sql(f\"DESCRIBE TABLE '{airbnb_nyc_listings_url}'\").show()\n",
    "    connection.sql(\n",
    "        f\"CREATE TABLE airbnb_nyc_listings as SELECT * FROM '{airbnb_nyc_listings_url}'\"\n",
    "    )\n",
    "    connection.sql(f\"SELECT count(*) FROM airbnb_nyc_listings\").show()\n",
    "\n",
    "print(\n",
    "    \"Creating Airbnb NYC detailed listings table from remote compressed csv file ...\"\n",
    ")\n",
    "with duckdb.connect(str(DATABASE_PATH)) as connection:\n",
    "    connection.sql(f\"SET http_proxy TO '{HTTP_PROXY}'\")\n",
    "    connection.sql(f\"DESCRIBE TABLE '{airbnb_nyc_detailed_listings_url}'\").show()\n",
    "    connection.sql(\n",
    "        f\"CREATE TABLE airbnb_nyc_detailed_listings as SELECT * FROM '{airbnb_nyc_detailed_listings_url}'\"\n",
    "    )\n",
    "    connection.sql(f\"SELECT count(*) FROM airbnb_nyc_detailed_listings\").show()\n",
    "\n",
    "print(\"✅ Loaded Airbnb data\")"
   ]
  },
  {
   "cell_type": "markdown",
   "metadata": {},
   "source": [
    "## Load TLC taxi data"
   ]
  },
  {
   "cell_type": "code",
   "execution_count": null,
   "metadata": {},
   "outputs": [],
   "source": [
    "yellow_cab_trips_url = \"https://d37ci6vzurychx.cloudfront.net/trip-data/yellow_tripdata_2024-01.parquet\"\n",
    "green_cab_trips_url = (\n",
    "    \"https://d37ci6vzurychx.cloudfront.net/trip-data/green_tripdata_2024-01.parquet\"\n",
    ")\n",
    "for_hire_trips_url = (\n",
    "    \"https://d37ci6vzurychx.cloudfront.net/trip-data/fhv_tripdata_2024-01.parquet\"\n",
    ")\n",
    "high_volume_for_hire_trips_url = (\n",
    "    \"https://d37ci6vzurychx.cloudfront.net/trip-data/fhvhv_tripdata_2024-01.parquet\"\n",
    ")\n",
    "tlc_trip_urls = [\n",
    "    yellow_cab_trips_url,\n",
    "    green_cab_trips_url,\n",
    "    for_hire_trips_url,\n",
    "    high_volume_for_hire_trips_url,\n",
    "]\n",
    "print(\"Creating a TLC trips table from remote parquet files ...\")\n",
    "with duckdb.connect(str(DATABASE_PATH)) as connection:\n",
    "    connection.sql(f\"SET http_proxy TO '{HTTP_PROXY}'\")\n",
    "\n",
    "    for remote_table in tlc_trip_urls:\n",
    "        print(f\"Describing {remote_table} ...\")\n",
    "        connection.sql(f\"DESCRIBE TABLE '{remote_table}'\").show()\n",
    "\n",
    "    print(f\"Creating table 'tlc_trips' from all files ...\")\n",
    "    connection.sql(\n",
    "        f\"CREATE TABLE tlc_trips as SELECT * FROM read_parquet({tlc_trip_urls}, union_by_name = true, filename = true)\"\n",
    "    )\n",
    "    connection.sql(\"SHOW ALL TABLES\").show()\n",
    "\n",
    "    print(f\"Describing table 'tlc_trips' ...\")\n",
    "    connection.sql(f\"DESCRIBE TABLE tlc_trips\").show()\n",
    "\n",
    "    tlc_trips_length = connection.sql(\n",
    "        \"select count(*) as row_count from tlc_trips\"\n",
    "    ).df()[\"row_count\"][0]\n",
    "    print(f\"The table 'tlc_trips' has {tlc_trips_length:,} rows\")\n",
    "\n",
    "print(\"✅ Loaded Taxi data\")"
   ]
  },
  {
   "cell_type": "code",
   "execution_count": null,
   "metadata": {},
   "outputs": [],
   "source": []
  }
 ],
 "metadata": {
  "kernelspec": {
   "display_name": ".venv",
   "language": "python",
   "name": "python3"
  },
  "language_info": {
   "codemirror_mode": {
    "name": "ipython",
    "version": 3
   },
   "file_extension": ".py",
   "mimetype": "text/x-python",
   "name": "python",
   "nbconvert_exporter": "python",
   "pygments_lexer": "ipython3",
   "version": "3.12.4"
  }
 },
 "nbformat": 4,
 "nbformat_minor": 2
}
